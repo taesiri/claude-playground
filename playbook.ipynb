{
 "cells": [
  {
   "attachments": {},
   "cell_type": "markdown",
   "metadata": {},
   "source": [
    "### Playing with `claude-v1.3-100k`"
   ]
  },
  {
   "cell_type": "code",
   "execution_count": 1,
   "metadata": {},
   "outputs": [],
   "source": [
    "import os\n",
    "import anthropic\n",
    "import numpy as np\n",
    "import pandas as pd\n",
    "import matplotlib.pyplot as plt\n",
    "import seaborn as sns\n",
    "import pickle\n",
    "import openai\n",
    "import time\n"
   ]
  },
  {
   "cell_type": "code",
   "execution_count": 2,
   "metadata": {},
   "outputs": [],
   "source": [
    "client = anthropic.Client(api_key=os.environ['ANTHROPIC_API_KEY'])"
   ]
  },
  {
   "cell_type": "code",
   "execution_count": 6,
   "metadata": {},
   "outputs": [],
   "source": [
    "class ContextualQA:\n",
    "    def __init__(self, client, model=\"claude-v1.3-100k\"):\n",
    "        self.client = client\n",
    "        self.model = model\n",
    "        self.context = \"\"\n",
    "        self.questions = []\n",
    "        self.responses = []\n",
    "\n",
    "    def load_text(self, text):\n",
    "        self.context = text\n",
    "\n",
    "    def ask_question(self, question):\n",
    "        leading_prompt = \"Consider the text document below:\"\n",
    "        trailing_prompt = \"Now answer the following question:\"\n",
    "        prompt = f\"{anthropic.HUMAN_PROMPT} {leading_prompt}\\n\\n{self.context}\\n\\n{trailing_prompt}\\n\\n{anthropic.HUMAN_PROMPT} {question} {anthropic.AI_PROMPT}\"\n",
    "        response = self.client.completion_stream(\n",
    "            prompt=prompt,\n",
    "            stop_sequences=[anthropic.HUMAN_PROMPT],\n",
    "            max_tokens_to_sample=6000,\n",
    "            model=self.model,\n",
    "            stream=False,\n",
    "        )\n",
    "        responses = [data for data in response]\n",
    "        self.questions.append(question)\n",
    "        self.responses.append(responses)\n",
    "        return responses\n",
    "\n",
    "    def clear_context(self):\n",
    "        self.context = \"\"\n",
    "        self.questions = []\n",
    "        self.responses = []\n",
    "\n",
    "    def __getstate__(self):\n",
    "        state = self.__dict__.copy()\n",
    "        del state[\"client\"]\n",
    "        return state\n",
    "\n",
    "    def __setstate__(self, state):\n",
    "        self.__dict__.update(state)\n",
    "        self.client = None\n"
   ]
  },
  {
   "cell_type": "code",
   "execution_count": 7,
   "metadata": {},
   "outputs": [],
   "source": [
    "# Initialize the QA system\n",
    "qa_system = ContextualQA(client)\n",
    "\n",
    "# Load a text\n",
    "with open('./gpts_are_gpts/main.tex', 'r') as f:\n",
    "    paper_1 = f.read()\n"
   ]
  },
  {
   "cell_type": "code",
   "execution_count": 8,
   "metadata": {},
   "outputs": [
    {
     "name": "stdout",
     "output_type": "stream",
     "text": [
      " The main argument of the paper is that large language models (LLMs), such as Generative Pre-trained Transformers (GPTs), exhibit traits of general-purpose technologies and could have considerable economic, social and policy implications. The paper provides evidence for this argument in several ways:\n",
      "\n",
      "1) The authors develop a new rubric for assessing the exposure of occupations and tasks to LLM capabilities. Using this rubric, they find that most occupations in the U.S. labor market have at least some degree of exposure to LLMs, with higher wage occupations generally exhibiting higher exposure. \n",
      "\n",
      "2) The authors show that LLMs meet two key criteria for general-purpose technologies: they are improving over time and have the potential for widespread impact across the economy. The paper documents the rapid progress in LLM capabilities in recent years. And the authors' analysis of occupational exposure suggests LLMs could significantly impact a diverse range of jobs.\n",
      "\n",
      "3) The authors argue that the impact of LLMs is likely to persist and increase over time, even if progress in developing new capabilities slows or stops. This is because the growing use of LLMs and complementary technologies built on top of them will continue to drive increased economic effects.\n",
      "\n",
      "4) The authors find that the potential impact of LLMs expands greatly when considering the development of complementary tools and software built on top of the models. Their analysis suggests complementary technologies could double the impact of LLMs on exposure. This reinforces the general-purpose nature of LLMs.\n",
      "\n",
      "5) The authors conclude that because LLMs meet the criteria for general-purpose technologies, they could be difficult for policymakers to predict and regulate. But understanding their capabilities and potential impacts can help in navigating policy issues around AI and the future of work.\n",
      "\n",
      "So in summary, the central argument of the paper is that LLMs exhibit traits of general-purpose technologies, and as a result, they are likely to have significant and pervasive—though hard to predict—effects on the economy, labor market and society. Policymakers and stakeholders need to understand these models to help address related policy challenges.\n",
      " Here is a quick summary of the paper in a few sentences: \n",
      "\n",
      "The paper develops a rubric to assess the exposure of jobs and tasks to large language models (LLMs) like GPT-4. Using this rubric, the authors find that 80% of U.S. workers have at least 10% of their job tasks exposed to LLMs. About 19% of workers have over half their tasks exposed. Exposure is present across occupations and wage levels but higher for higher-wage jobs. The impact expands significantly when considering software and tools built on top of LLMs. The authors argue that these findings suggest LLMs exhibit traits of general-purpose technologies, indicating substantial implications.\n",
      " GPT and large language models in general have significant potential to affect many aspects of the world:\n",
      "\n",
      "\\begin{itemize}\n",
      "\\item The nature of work: GPTs and LLMs could substantially impact many occupations and the job market. As our analysis shows, around 80\\% of US occupations have at least some potential exposure to GPTs. This could lead to job losses for some, while creating new types of jobs. Many existing jobs may also be transformed. This will likely exacerbate inequality if not properly addressed through policy.\n",
      "\n",
      "\\item Productivity and economic growth: Widespread adoption of GPTs could provide a boost to productivity, especially for knowledge-intensive occupations and industries. However, the productivity impacts will depend on how well organizations and work processes can be redesigned to take advantage of these technologies. There may also be offsetting effects, for example if there are job losses or if GPTs primarily benefit high-skill, high-wage jobs.\n",
      "\n",
      "\\item Education and learning: GPTs could help transform education by providing tailored learning experiences, automated assessments and feedback, and new ways of teaching complex topics. However, human teachers, mentors, and the social aspects of education will remain critically important. \n",
      "\n",
      "\\item Access to information and expertise: GPTs can help provide faster, cheaper access to information and expertise. This could benefit many areas like healthcare, law, and customer service. However, it also raises issues around bias, accuracy, and job quality that must be addressed.\n",
      "\n",
      "\\item Daily life and leisure: GPTs are likely to influence many areas of daily life, such as how we consume media, shop, travel, and pursue hobbies. Although technology may save time and provide convenience, it could also act as a distraction or discourage human relationships and experiences. \n",
      "\n",
      "\\item Ethics and values: There are many open questions around ensuring GPTs and their applications are aligned with human ethics and values. Issues include bias, privacy, job quality, and the wellbeing of society. Close collaboration between researchers, policymakers, and the public will be needed to help address these issues.\n",
      "\\end{itemize}\n",
      "\n",
      "In summary, GPTs exhibit the hallmarks of a general-purpose technology that will have a broad and profound impact, but they also raise important challenges that society must grapple with to help ensure the responsible development and use of these technologies. Overall, the future remains unwritten, and policy, social dynamics, and human choices will ultimately determine whether GPTs are used more to benefit or harm humanity.\n",
      " Here are some of the potential benefits of GPTs and large language models on society and the economy:\n",
      "\n",
      "•Increased productivity. By automating some routine and repetitive tasks, GPTs can help workers become more productive. This could boost economic growth and firm productivity. Studies estimate that AI technologies like GPTs could add an additional $15.7 trillion to the global economy by 2030.\n",
      "\n",
      "•New types of jobs. GPTs may facilitate the creation of new jobs that utilize human judgment, creativity, and emotional intelligence. For example, AI writing assistants could help writers be more productive, but human writers and editors would still be needed. GPTs could also create demand for new data scientist and ML engineering jobs.\n",
      "\n",
      "•Personalized services. GPTs can enable more customized and personalized services by generating tailored content for each individual user. For example, personalized education platforms and customized healthcare treatment plans. \n",
      "\n",
      "•Improved decision making. GPTs can help improve decision making by generating data-driven insights and recommendations. For example, GPTs are being used to predict customer behavior, detect fraud, and optimize business processes.\n",
      "\n",
      "•New discoveries. GPTs and neural networks can help make new discoveries and generate new ideas that humans may not have identified on their own. For example, GPTs are being used to generate new molecules for drug discovery and new theorems in mathematics.\n",
      "\n",
      "•Access to information. GPTs can help organize and retrieve information more efficiently. For example, GPTs can power search engines, recommendation systems, chatbots, and voice assistants to provide better access to information.\n",
      "\n",
      "•Enhanced creativity. GPTs have the potential to enhance and extend human creativity. For example, GPTs can help writers generate new plot ideas or new lyrics and help visual artists generate new graphical designs.\n",
      "\n",
      "• customized healthcare treatment. GPTs may improve diagnosis and generate personalized treatment plans tailored to individual patients. However, there are still many ethical concerns regarding the use of GPTs in healthcare that need to be addressed.\n",
      "\n",
      "So in summary, GPTs have the potential to positively impact the economy and society through increased productivity, new types of jobs, improved services, better decision making, enhanced creativity, and accelerated innovation. However, the impact will depend on how these technologies are ultimately adopted and applied. GPTs also bring risks and challenges that must be managed.\n"
     ]
    }
   ],
   "source": [
    "# Create a QA system\n",
    "qa_system.load_text(paper_1)\n",
    "\n",
    "# Ask a question\n",
    "responses = qa_system.ask_question(\"What is the main argument of the paper?\")\n",
    "print(responses[0]['completion'])\n",
    "\n",
    "responses = qa_system.ask_question(\"Can you summerize the paper in a few sentences?\")\n",
    "print(responses[0]['completion'])\n",
    "\n",
    "responses = qa_system.ask_question(\"Can you tell me how GPT will change the world?\")\n",
    "print(responses[0]['completion'])\n",
    "\n",
    "responses = qa_system.ask_question(\"Can you tell me the benefits of GPT on society and economy?\")\n",
    "print(responses[0]['completion'])\n"
   ]
  },
  {
   "cell_type": "code",
   "execution_count": 13,
   "metadata": {},
   "outputs": [
    {
     "name": "stdout",
     "output_type": "stream",
     "text": [
      " Here are some of the potential benefits of GPTs and large language models on society and the economy:\n",
      "\n",
      "•Increased productivity. By automating some routine and repetitive tasks, GPTs can help workers become more productive. This could boost economic growth and firm productivity. Studies estimate that AI technologies like GPTs could add an additional $15.7 trillion to the global economy by 2030.\n",
      "\n",
      "•New types of jobs. GPTs may facilitate the creation of new jobs that utilize human judgment, creativity, and emotional intelligence. For example, AI writing assistants could help writers be more productive, but human writers and editors would still be needed. GPTs could also create demand for new data scientist and ML engineering jobs.\n",
      "\n",
      "•Personalized services. GPTs can enable more customized and personalized services by generating tailored content for each individual user. For example, personalized education platforms and customized healthcare treatment plans. \n",
      "\n",
      "•Improved decision making. GPTs can help improve decision making by generating data-driven insights and recommendations. For example, GPTs are being used to predict customer behavior, detect fraud, and optimize business processes.\n",
      "\n",
      "•New discoveries. GPTs and neural networks can help make new discoveries and generate new ideas that humans may not have identified on their own. For example, GPTs are being used to generate new molecules for drug discovery and new theorems in mathematics.\n",
      "\n",
      "•Access to information. GPTs can help organize and retrieve information more efficiently. For example, GPTs can power search engines, recommendation systems, chatbots, and voice assistants to provide better access to information.\n",
      "\n",
      "•Enhanced creativity. GPTs have the potential to enhance and extend human creativity. For example, GPTs can help writers generate new plot ideas or new lyrics and help visual artists generate new graphical designs.\n",
      "\n",
      "• customized healthcare treatment. GPTs may improve diagnosis and generate personalized treatment plans tailored to individual patients. However, there are still many ethical concerns regarding the use of GPTs in healthcare that need to be addressed.\n",
      "\n",
      "So in summary, GPTs have the potential to positively impact the economy and society through increased productivity, new types of jobs, improved services, better decision making, enhanced creativity, and accelerated innovation. However, the impact will depend on how these technologies are ultimately adopted and applied. GPTs also bring risks and challenges that must be managed.\n"
     ]
    }
   ],
   "source": [
    "print(qa_system.responses[-1][0]['completion'])"
   ]
  },
  {
   "cell_type": "code",
   "execution_count": 14,
   "metadata": {},
   "outputs": [],
   "source": [
    "# Save\n",
    "with open('qa_system.pkl', 'wb') as f:\n",
    "    pickle.dump(qa_system, f)"
   ]
  },
  {
   "cell_type": "code",
   "execution_count": null,
   "metadata": {},
   "outputs": [],
   "source": []
  },
  {
   "cell_type": "code",
   "execution_count": null,
   "metadata": {},
   "outputs": [],
   "source": []
  },
  {
   "cell_type": "code",
   "execution_count": null,
   "metadata": {},
   "outputs": [],
   "source": [
    "\n",
    "# Load\n",
    "with open('qa_system.pkl', 'rb') as f:\n",
    "    qa_system = pickle.load(f)\n",
    "    qa_system.client = client  # Manually set the client after loading\n"
   ]
  }
 ],
 "metadata": {
  "kernelspec": {
   "display_name": "torch2",
   "language": "python",
   "name": "python3"
  },
  "language_info": {
   "codemirror_mode": {
    "name": "ipython",
    "version": 3
   },
   "file_extension": ".py",
   "mimetype": "text/x-python",
   "name": "python",
   "nbconvert_exporter": "python",
   "pygments_lexer": "ipython3",
   "version": "3.10.10"
  },
  "orig_nbformat": 4
 },
 "nbformat": 4,
 "nbformat_minor": 2
}
